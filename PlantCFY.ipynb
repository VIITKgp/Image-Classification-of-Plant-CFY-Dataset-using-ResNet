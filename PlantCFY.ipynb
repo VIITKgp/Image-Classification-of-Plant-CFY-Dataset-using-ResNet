{
  "cells": [
    {
      "cell_type": "code",
      "execution_count": null,
      "metadata": {
        "colab": {
          "base_uri": "https://localhost:8080/"
        },
        "id": "SQzvzgiBrUuM",
        "outputId": "7ab472e3-6e8a-4a3e-e364-7fce374df093"
      },
      "outputs": [
        {
          "output_type": "stream",
          "name": "stdout",
          "text": [
            "Drive already mounted at /content/drive; to attempt to forcibly remount, call drive.mount(\"/content/drive\", force_remount=True).\n"
          ]
        }
      ],
      "source": [
        "from google.colab import drive\n",
        "drive.mount('/content/drive')"
      ]
    },
    {
      "cell_type": "code",
      "source": [
        "#!unzip \"/content/drive/Shareddrives/Unlimited Storage/Plant-CFY.zip\" -d \"/content/drive/Shareddrives/Unlimited Storage\""
      ],
      "metadata": {
        "id": "xa-HtzYfxr3T"
      },
      "execution_count": null,
      "outputs": []
    },
    {
      "cell_type": "code",
      "execution_count": null,
      "metadata": {
        "id": "yR6mS6DuseBY"
      },
      "outputs": [],
      "source": [
        "import torch \n",
        "import torchvision\n",
        "import os\n",
        "import csv\n",
        "import pandas as pd\n",
        "from PIL import Image\n",
        "from torchvision import datasets, transforms\n",
        "from torch import nn\n",
        "from torch import optim\n",
        "from torch.utils.data import DataLoader, Dataset\n",
        "from sklearn.model_selection import train_test_split\n",
        "from torchvision import models\n",
        "from torchvision.models import ResNet50_Weights\n",
        "import matplotlib.pyplot as plt\n",
        "import torchvision.transforms as T\n",
        "\n",
        "import numpy as np\n",
        "from tqdm import tqdm\n",
        "%matplotlib inline\n",
        "%config InlineBackend.figure_format = 'retina'"
      ]
    },
    {
      "cell_type": "code",
      "execution_count": null,
      "metadata": {
        "id": "9j4yp_DUrfj_"
      },
      "outputs": [],
      "source": [
        "data = \"/content/drive/Shareddrives/Unlimited Storage/Plant-CFY/data\"\n",
        "train_path = \"/content/drive/MyDrive/Colab Notebooks/plant-train.csv\"\n",
        "val_path = \"/content/drive/MyDrive/Colab Notebooks/plant-val.csv\"\n",
        "test_path = \"/content/drive/MyDrive/Colab Notebooks/plant-test.csv\""
      ]
    },
    {
      "cell_type": "code",
      "execution_count": null,
      "metadata": {
        "id": "546ff14b",
        "colab": {
          "base_uri": "https://localhost:8080/"
        },
        "outputId": "44add029-eb30-4eef-bb83-537f5187d298"
      },
      "outputs": [
        {
          "output_type": "stream",
          "name": "stdout",
          "text": [
            "cuda\n"
          ]
        }
      ],
      "source": [
        "#checking for device\n",
        "device=torch.device('cuda' if torch.cuda.is_available() else 'cpu')\n",
        "print(device)"
      ]
    },
    {
      "cell_type": "code",
      "source": [
        "def save_checkpoint(state,filename=\"/content/drive/MyDrive/Colab Notebooks/plantCFY_best_checkpoint.pth.tar\"):\n",
        "  print(\"==> Saving Checkpoint\")\n",
        "  torch.save(state,filename)\n",
        "  print(\"==> Checkpoint Saved\")\n",
        "\n",
        "def load_checkpoint(model,checkpoint):\n",
        "  print(\"==> Loading Checkpoint\")\n",
        "  model.load_state_dict(checkpoint['state_dict'])\n",
        "  print(\"==> Checkpoint Loaded\")\n"
      ],
      "metadata": {
        "id": "5a-OK7TNVg78"
      },
      "execution_count": null,
      "outputs": []
    },
    {
      "cell_type": "code",
      "execution_count": null,
      "metadata": {
        "id": "9FOpFVDv0j5y"
      },
      "outputs": [],
      "source": [
        "def MakeDataset(path):\n",
        "  classes=os.listdir(path)\n",
        "  print(classes)\n",
        "  ftrain = open(train_path, 'w',newline='')\n",
        "  wtrain = csv.writer(ftrain)\n",
        "  wtrain.writerow(['name','class'])\n",
        "\n",
        "  fval = open(val_path, 'w',newline='')\n",
        "  wval = csv.writer(fval)\n",
        "  wval.writerow(['name','class'])\n",
        "\n",
        "  ftest = open(test_path, 'w',newline='')\n",
        "  wtest = csv.writer(ftest)\n",
        "  wtest.writerow(['name','class'])\n",
        "\n",
        "  for c in range(len(classes)):\n",
        "    dir=os.listdir(path+\"/\"+classes[c])\n",
        "    train,temp= train_test_split(dir, test_size=0.2)\n",
        "    val,test = train_test_split(temp, test_size=0.5)\n",
        "    for i in train:\n",
        "         wtrain.writerow([classes[c]+\"/\"+i,c])\n",
        "    for j in val:\n",
        "         wval.writerow([classes[c]+\"/\"+j,c])\n",
        "    for k in test:\n",
        "         wtest.writerow([classes[c]+\"/\"+k,c])     \n",
        "  ftrain.close()\n",
        "  fval.close()\n",
        "  ftest.close()"
      ]
    },
    {
      "cell_type": "code",
      "execution_count": null,
      "metadata": {
        "id": "7d3b54af"
      },
      "outputs": [],
      "source": [
        "class GetDataset(Dataset):\n",
        "    def __init__(self,datapath,csvpath):\n",
        "        self.datapath=datapath\n",
        "        self.csvpath=csvpath\n",
        "        self.df=pd.read_csv(csvpath)\n",
        "        self.transform=T.Compose([T.Resize(224),T.ToTensor()])\n",
        "    def __getitem__(self,index):\n",
        "        self.img=Image.open(self.datapath+'/'+self.df.iloc[index,0])\n",
        "        self.input=self.transform(self.img)\n",
        "        self.label=torch.tensor(self.df.iloc[index,1])\n",
        "        return self.input,self.label\n",
        "    def __len__(self):\n",
        "        return len(self.df)"
      ]
    },
    {
      "cell_type": "code",
      "source": [
        "def LoadDataset(data,train_path,val_path,test_path,batch_size):\n",
        "  train_ds = GetDataset(data,train_path)\n",
        "  val_ds = GetDataset(data,val_path)\n",
        "  test_ds = GetDataset(data,test_path)\n",
        "\n",
        "  train_loader=DataLoader(train_ds,batch_size,shuffle=True)\n",
        "  val_loader=DataLoader(val_ds,batch_size,shuffle=True)\n",
        "  test_loader=DataLoader(test_ds,batch_size,shuffle=False)\n",
        "  return train_loader,val_loader,test_loader"
      ],
      "metadata": {
        "id": "9BaIcuv4eFVF"
      },
      "execution_count": null,
      "outputs": []
    },
    {
      "cell_type": "code",
      "execution_count": null,
      "metadata": {
        "id": "RNkS1Wsc208c"
      },
      "outputs": [],
      "source": [
        "def GetModel(no_of_classes,lr):\n",
        "  model = models.resnet50(weights=ResNet50_Weights.DEFAULT)\n",
        "  n_inputs = model.fc.in_features\n",
        "  last_layer = nn.Linear(n_inputs,no_of_classes)\n",
        "  model.fc= last_layer\n",
        "  model = model.to(device)\n",
        "  print(\"Input Features:\",model.fc.in_features)\n",
        "  print(\"Output Features:\",model.fc.out_features)\n",
        "  criterion = nn.NLLLoss()\n",
        "  optimizer = optim.Adam(model.parameters(),lr=lr)\n",
        "  return model,criterion,optimizer"
      ]
    },
    {
      "cell_type": "code",
      "source": [
        "def trainer(model,epochs,train_loader,val_loader,criterion,optimizer):\n",
        "  #Model training and saving best model \n",
        "  #load_checkpoint(model,torch.load(\"/content/drive/MyDrive/Colab Notebooks/plantCFY_best_checkpoint.pth.tar\")) \n",
        "  epoch_loss=[]\n",
        "  train_acc=[]\n",
        "  val_acc=[]\n",
        "  best_accuracy = 0.0\n",
        "  for epoch in range(epochs):\n",
        "    \n",
        "    #Evaluation and training on training dataset\n",
        "    model.train()\n",
        "    train_loss=0.0\n",
        "    train_accuracy=0.0\n",
        "    val_accuracy=0.0\n",
        "    len1=0\n",
        "    len2=0\n",
        "\n",
        "    loop = tqdm(train_loader)\n",
        "    for images,labels in loop:\n",
        "        if torch.cuda.is_available():\n",
        "            images=images.cuda()\n",
        "            labels=labels.cuda()\n",
        "            \n",
        "        optimizer.zero_grad()\n",
        "        outputs=model(images)\n",
        "        m = nn.LogSoftmax(dim=1)\n",
        "        loss=criterion(m(outputs),labels)\n",
        "        loss.backward()\n",
        "        optimizer.step()\n",
        "        \n",
        "        \n",
        "        train_loss+= loss\n",
        "        len1 += labels.shape[0]\n",
        "        prediction=m(outputs).argmax(dim=1)\n",
        "        \n",
        "        train_accuracy+=int(torch.sum(prediction==labels.data))\n",
        "        \n",
        "    train_accuracy=train_accuracy/len1\n",
        "    train_loss=(train_loss/len1).data.item()\n",
        "    epoch_loss.append(train_loss)\n",
        "    train_acc.append(train_accuracy)\n",
        "    \n",
        "    \n",
        "    loop = tqdm(val_loader)  \n",
        "    \n",
        "    for images,labels in loop:\n",
        "        if torch.cuda.is_available():\n",
        "            images=images.cuda()\n",
        "            labels=labels.cuda()\n",
        "            \n",
        "        outputs=model(images)\n",
        "        len2 += labels.shape[0]\n",
        "        prediction=m(outputs).argmax(dim=1)\n",
        "        \n",
        "        val_accuracy+=int(torch.sum(prediction==labels.data))\n",
        "        \n",
        "    val_accuracy=val_accuracy/len2\n",
        "    val_acc.append(val_accuracy)\n",
        "\n",
        "    print('\\nEpoch:'+str(epoch+1)+' Train Loss: '+str(round(train_loss,5))+' Train Accuracy: '+str(round(train_accuracy,5))+' Val Accuracy: '+str(round(val_accuracy,5)))\n",
        "\n",
        "    if val_accuracy>=best_accuracy:\n",
        "        checkpoint = {'state_dict': model.state_dict(), 'optimizer': optimizer.state_dict()}\n",
        "        save_checkpoint(checkpoint)\n",
        "        best_accuracy=val_accuracy\n",
        "\n",
        "  return epoch_loss,train_acc,val_acc\n"
      ],
      "metadata": {
        "id": "36XeYPWxl3vE"
      },
      "execution_count": null,
      "outputs": []
    },
    {
      "cell_type": "code",
      "execution_count": null,
      "metadata": {
        "id": "GnA2SElh0f7l"
      },
      "outputs": [],
      "source": [
        "# Evaluation on testing dataset\n",
        "def tester(model,test_loader):\n",
        "  model.eval()\n",
        "  test_accuracy=0.0\n",
        "  len2=0\n",
        "  loop1 = tqdm(test_loader)\n",
        "  for i, (images,labels) in enumerate(loop1):\n",
        "        if torch.cuda.is_available():\n",
        "            images=images.cuda()\n",
        "            labels=labels.cuda()\n",
        "            \n",
        "        outputs=model(images)\n",
        "        m = nn.LogSoftmax(dim=1)\n",
        "        prediction=m(outputs).argmax(dim=1)\n",
        "        test_accuracy+=int(torch.sum(prediction==labels.data))\n",
        "        len2 += labels.shape[0]\n",
        "    \n",
        "  test_accuracy=test_accuracy/len2\n",
        "  print('\\n\\n********************************************************************************')\n",
        "  print('\\n Test Accuracy: '+str(round(test_accuracy,5)))\n",
        "  print('\\n********************************************************************************\\n\\n')"
      ]
    },
    {
      "cell_type": "code",
      "source": [
        "def plotgraphs(epochs,epoch_loss,train_acc,val_acc):\n",
        "  plt.figure(figsize=[20,6])\n",
        "  plt.subplot(121)\n",
        "  plt.plot(range(epochs),epoch_loss,label='Train Loss')\n",
        "  plt.legend()\n",
        "  plt.xlabel('Epochs')\n",
        "  plt.ylabel('Epoch loss')\n",
        "  plt.title('Loss Curve')\n",
        "  plt.subplot(122)\n",
        "  plt.plot(range(epochs),train_acc,color='red',label='Train Accuracy')\n",
        "  plt.plot(range(epochs),val_acc,color='blue',label='Validation Accuracy')\n",
        "  plt.legend()\n",
        "  plt.xlabel('Epochs')\n",
        "  plt.ylabel('Accuracy')\n",
        "  plt.title('Train Accuracy vs Validation Accuracy')"
      ],
      "metadata": {
        "id": "D_124LnHsfGl"
      },
      "execution_count": null,
      "outputs": []
    },
    {
      "cell_type": "code",
      "source": [
        "def main():\n",
        "  lr=0.0001\n",
        "  epochs = 10\n",
        "  no_of_classes = 12\n",
        "  batch_size=32\n",
        "  MakeDataset(data)\n",
        "  train_loader,val_loader,test_loader=LoadDataset(data,train_path,val_path,test_path,batch_size)\n",
        "  model,criterion,optimizer = GetModel(no_of_classes,lr)\n",
        "  epoch_loss,train_acc,val_acc= trainer(model,epochs,train_loader,val_loader,criterion,optimizer)\n",
        "  tester(model,test_loader)\n",
        "  plotgraphs(epochs,epoch_loss,train_acc,val_acc)"
      ],
      "metadata": {
        "id": "jl_a0Zxwtq1L"
      },
      "execution_count": null,
      "outputs": []
    },
    {
      "cell_type": "code",
      "execution_count": null,
      "metadata": {
        "id": "l2npRLsgCRl4",
        "colab": {
          "base_uri": "https://localhost:8080/",
          "height": 1000
        },
        "outputId": "92850097-55f2-4f3e-c8df-2a2641cfa816"
      },
      "outputs": [
        {
          "output_type": "stream",
          "name": "stdout",
          "text": [
            "['Cleavers', 'Common Chickweed', 'Common wheat', 'Fat Hen', 'Loose Silky-bent', 'Maize', 'Scentless Mayweed', 'Shepherds Purse', 'Small-flowered Cranesbill', 'Sugar beet', 'Black-grass', 'Charlock']\n",
            "Input Features: 2048\n",
            "Output Features: 12\n"
          ]
        },
        {
          "output_type": "stream",
          "name": "stderr",
          "text": [
            "100%|██████████| 119/119 [36:04<00:00, 18.19s/it]\n",
            "100%|██████████| 15/15 [04:22<00:00, 17.48s/it]\n"
          ]
        },
        {
          "output_type": "stream",
          "name": "stdout",
          "text": [
            "\n",
            "Epoch:1 Train Loss: 0.03877 Train Accuracy: 0.64866 Val Accuracy: 0.87553\n",
            "==> Saving Checkpoint\n",
            "==> Checkpoint Saved\n"
          ]
        },
        {
          "output_type": "stream",
          "name": "stderr",
          "text": [
            "100%|██████████| 119/119 [00:54<00:00,  2.20it/s]\n",
            "100%|██████████| 15/15 [00:03<00:00,  4.57it/s]\n"
          ]
        },
        {
          "output_type": "stream",
          "name": "stdout",
          "text": [
            "\n",
            "Epoch:2 Train Loss: 0.00725 Train Accuracy: 0.92778 Val Accuracy: 0.90506\n",
            "==> Saving Checkpoint\n",
            "==> Checkpoint Saved\n"
          ]
        },
        {
          "output_type": "stream",
          "name": "stderr",
          "text": [
            "100%|██████████| 119/119 [00:53<00:00,  2.23it/s]\n",
            "100%|██████████| 15/15 [00:03<00:00,  4.53it/s]\n"
          ]
        },
        {
          "output_type": "stream",
          "name": "stdout",
          "text": [
            "\n",
            "Epoch:3 Train Loss: 0.00297 Train Accuracy: 0.97364 Val Accuracy: 0.92194\n",
            "==> Saving Checkpoint\n",
            "==> Checkpoint Saved\n"
          ]
        },
        {
          "output_type": "stream",
          "name": "stderr",
          "text": [
            "100%|██████████| 119/119 [00:53<00:00,  2.21it/s]\n",
            "100%|██████████| 15/15 [00:03<00:00,  4.59it/s]\n"
          ]
        },
        {
          "output_type": "stream",
          "name": "stdout",
          "text": [
            "\n",
            "Epoch:4 Train Loss: 0.00218 Train Accuracy: 0.97997 Val Accuracy: 0.92827\n",
            "==> Saving Checkpoint\n",
            "==> Checkpoint Saved\n"
          ]
        },
        {
          "output_type": "stream",
          "name": "stderr",
          "text": [
            "100%|██████████| 119/119 [00:53<00:00,  2.23it/s]\n",
            "100%|██████████| 15/15 [00:03<00:00,  4.61it/s]\n"
          ]
        },
        {
          "output_type": "stream",
          "name": "stdout",
          "text": [
            "\n",
            "Epoch:5 Train Loss: 0.00151 Train Accuracy: 0.98471 Val Accuracy: 0.9346\n",
            "==> Saving Checkpoint\n",
            "==> Checkpoint Saved\n"
          ]
        },
        {
          "output_type": "stream",
          "name": "stderr",
          "text": [
            "100%|██████████| 119/119 [00:53<00:00,  2.22it/s]\n",
            "100%|██████████| 15/15 [00:03<00:00,  4.60it/s]\n"
          ]
        },
        {
          "output_type": "stream",
          "name": "stdout",
          "text": [
            "\n",
            "Epoch:6 Train Loss: 0.0009 Train Accuracy: 0.99077 Val Accuracy: 0.93249\n"
          ]
        },
        {
          "output_type": "stream",
          "name": "stderr",
          "text": [
            "100%|██████████| 119/119 [00:53<00:00,  2.23it/s]\n",
            "100%|██████████| 15/15 [00:03<00:00,  4.57it/s]\n"
          ]
        },
        {
          "output_type": "stream",
          "name": "stdout",
          "text": [
            "\n",
            "Epoch:7 Train Loss: 0.00086 Train Accuracy: 0.99104 Val Accuracy: 0.94515\n",
            "==> Saving Checkpoint\n",
            "==> Checkpoint Saved\n"
          ]
        },
        {
          "output_type": "stream",
          "name": "stderr",
          "text": [
            "100%|██████████| 119/119 [00:53<00:00,  2.23it/s]\n",
            "100%|██████████| 15/15 [00:03<00:00,  4.65it/s]\n"
          ]
        },
        {
          "output_type": "stream",
          "name": "stdout",
          "text": [
            "\n",
            "Epoch:8 Train Loss: 0.0009 Train Accuracy: 0.99183 Val Accuracy: 0.94093\n"
          ]
        },
        {
          "output_type": "stream",
          "name": "stderr",
          "text": [
            "100%|██████████| 119/119 [00:53<00:00,  2.23it/s]\n",
            "100%|██████████| 15/15 [00:03<00:00,  4.38it/s]\n"
          ]
        },
        {
          "output_type": "stream",
          "name": "stdout",
          "text": [
            "\n",
            "Epoch:9 Train Loss: 0.00068 Train Accuracy: 0.99526 Val Accuracy: 0.95781\n",
            "==> Saving Checkpoint\n",
            "==> Checkpoint Saved\n"
          ]
        },
        {
          "output_type": "stream",
          "name": "stderr",
          "text": [
            "100%|██████████| 119/119 [00:53<00:00,  2.22it/s]\n",
            "100%|██████████| 15/15 [00:03<00:00,  4.58it/s]\n"
          ]
        },
        {
          "output_type": "stream",
          "name": "stdout",
          "text": [
            "\n",
            "Epoch:10 Train Loss: 0.00043 Train Accuracy: 0.99684 Val Accuracy: 0.94093\n"
          ]
        },
        {
          "output_type": "stream",
          "name": "stderr",
          "text": [
            "100%|██████████| 16/16 [04:29<00:00, 16.87s/it]\n"
          ]
        },
        {
          "output_type": "stream",
          "name": "stdout",
          "text": [
            "\n",
            "\n",
            "********************************************************************************\n",
            "\n",
            " Test Accuracy: 0.96058\n",
            "\n",
            "********************************************************************************\n",
            "\n",
            "\n"
          ]
        },
        {
          "output_type": "display_data",
          "data": {
            "text/plain": [
              "<Figure size 1440x432 with 2 Axes>"
            ],
            "image/png": "[encoded data removed]"
          },
          "metadata": {
            "image/png": {
              "width": 1179,
              "height": 386
            },
            "needs_background": "light"
          }
        }
      ],
      "source": [
        "if __name__ == \"__main__\":\n",
        "    main()"
      ]
    },
    {
      "cell_type": "code",
      "source": [
        "  "
      ],
      "metadata": {
        "id": "Er05br3VGGTf"
      },
      "execution_count": null,
      "outputs": []
    }
  ],
  "metadata": {
    "colab": {
      "collapsed_sections": [],
      "name": "PlantCFY.ipynb",
      "provenance": []
    },
    "gpuClass": "standard",
    "kernelspec": {
      "display_name": "Python 3",
      "name": "python3"
    },
    "language_info": {
      "name": "python"
    },
    "accelerator": "GPU"
  },
  "nbformat": 4,
  "nbformat_minor": 0
}