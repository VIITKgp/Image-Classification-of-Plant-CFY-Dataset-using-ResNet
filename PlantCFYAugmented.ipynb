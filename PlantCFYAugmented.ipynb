{
  "cells": [
    {
      "cell_type": "code",
      "execution_count": null,
      "metadata": {
        "colab": {
          "base_uri": "https://localhost:8080/"
        },
        "id": "SQzvzgiBrUuM",
        "outputId": "e6cea85c-b41c-4f9b-d1f5-01ca247244da"
      },
      "outputs": [
        {
          "output_type": "stream",
          "name": "stdout",
          "text": [
            "Drive already mounted at /content/drive; to attempt to forcibly remount, call drive.mount(\"/content/drive\", force_remount=True).\n"
          ]
        }
      ],
      "source": [
        "from google.colab import drive\n",
        "drive.mount('/content/drive')"
      ]
    },
    {
      "cell_type": "code",
      "execution_count": null,
      "metadata": {
        "id": "yR6mS6DuseBY"
      },
      "outputs": [],
      "source": [
        "import torch \n",
        "import torchvision\n",
        "import os\n",
        "import csv\n",
        "import pandas as pd\n",
        "import numpy as np\n",
        "from PIL import Image\n",
        "from tqdm import tqdm\n",
        "from torch import nn\n",
        "from torch import optim\n",
        "from torch.utils.data import DataLoader, Dataset\n",
        "from sklearn.model_selection import train_test_split\n",
        "from torchvision.models import ResNet50_Weights\n",
        "from torchvision import models\n",
        "import matplotlib.pyplot as plt\n",
        "import torchvision.transforms as T\n",
        "%matplotlib inline\n",
        "%config InlineBackend.figure_format = 'retina'"
      ]
    },
    {
      "cell_type": "code",
      "execution_count": null,
      "metadata": {
        "id": "9j4yp_DUrfj_"
      },
      "outputs": [],
      "source": [
        "data = \"/content/drive/Shareddrives/Unlimited Storage/Plant-CFY/data\"\n",
        "train_path = \"/content/drive/MyDrive/Colab Notebooks/plant-train.csv\"\n",
        "val_path = \"/content/drive/MyDrive/Colab Notebooks/plant-val.csv\"\n",
        "test_path = \"/content/drive/MyDrive/Colab Notebooks/plant-test.csv\""
      ]
    },
    {
      "cell_type": "code",
      "execution_count": null,
      "metadata": {
        "colab": {
          "base_uri": "https://localhost:8080/"
        },
        "id": "546ff14b",
        "outputId": "37562686-8cf3-43fd-9e59-5a449309aca2"
      },
      "outputs": [
        {
          "output_type": "stream",
          "name": "stdout",
          "text": [
            "cuda\n"
          ]
        }
      ],
      "source": [
        "#checking for device\n",
        "device=torch.device('cuda' if torch.cuda.is_available() else 'cpu')\n",
        "print(device)"
      ]
    },
    {
      "cell_type": "code",
      "source": [
        "def save_checkpoint(state,filename=\"/content/drive/MyDrive/Colab Notebooks/plantCFY_best_checkpoint2.pth.tar\"):\n",
        "  print(\"==> Saving Checkpoint\")\n",
        "  torch.save(state,filename)\n",
        "  print(\"==> Checkpoint Saved\")\n",
        "\n",
        "def load_checkpoint(model,checkpoint):\n",
        "  print(\"==> Loading Checkpoint\")\n",
        "  model.load_state_dict(checkpoint['state_dict'])\n",
        "  print(\"==> Checkpoint Loaded\")\n"
      ],
      "metadata": {
        "id": "5a-OK7TNVg78"
      },
      "execution_count": null,
      "outputs": []
    },
    {
      "cell_type": "code",
      "execution_count": null,
      "metadata": {
        "id": "9FOpFVDv0j5y"
      },
      "outputs": [],
      "source": [
        "def MakeDataset(path):\n",
        "  classes=os.listdir(path)\n",
        "  print(classes)\n",
        "  ftrain = open(train_path, 'w',newline='')\n",
        "  wtrain = csv.writer(ftrain)\n",
        "  wtrain.writerow(['name','class'])\n",
        "\n",
        "  fval = open(val_path, 'w',newline='')\n",
        "  wval = csv.writer(fval)\n",
        "  wval.writerow(['name','class'])\n",
        "\n",
        "  ftest = open(test_path, 'w',newline='')\n",
        "  wtest = csv.writer(ftest)\n",
        "  wtest.writerow(['name','class'])\n",
        "\n",
        "  for c in range(len(classes)):\n",
        "    dir=os.listdir(path+\"/\"+classes[c])\n",
        "    train,temp= train_test_split(dir, test_size=0.2)\n",
        "    val,test = train_test_split(temp, test_size=0.5)\n",
        "    for i in train:\n",
        "         wtrain.writerow([classes[c]+\"/\"+i,c])\n",
        "    for j in val:\n",
        "         wval.writerow([classes[c]+\"/\"+j,c])\n",
        "    for k in test:\n",
        "         wtest.writerow([classes[c]+\"/\"+k,c])     \n",
        "  ftrain.close()\n",
        "  fval.close()\n",
        "  ftest.close()"
      ]
    },
    {
      "cell_type": "code",
      "execution_count": null,
      "metadata": {
        "id": "7d3b54af"
      },
      "outputs": [],
      "source": [
        "class GetDataset(Dataset):\n",
        "    def __init__(self,datapath,csvpath,augment):\n",
        "        self.datapath=datapath\n",
        "        self.csvpath=csvpath\n",
        "        self.augment = augment\n",
        "        self.df=pd.read_csv(csvpath)\n",
        "        self.transform=T.Compose([T.Resize(224),T.ToTensor()])\n",
        "        self.augmentations = T.Compose([T.Resize(240),T.ToTensor(),T.RandomRotation((-90,90)),T.RandomHorizontalFlip(p=0.5),\n",
        "                                 T.RandomVerticalFlip(p=0.5),T.RandomCrop(224),\n",
        "                                 T.ColorJitter(brightness=(1,3),contrast=0,saturation=0,hue=0)])\n",
        "    def __getitem__(self,index):\n",
        "        self.img=Image.open(self.datapath+'/'+self.df.iloc[index,0])\n",
        "        if(self.augment==\"true\"):\n",
        "          self.input=self.augmentations(self.img)\n",
        "        else:\n",
        "          self.input=self.transform(self.img)      \n",
        "        self.label=torch.tensor(self.df.iloc[index,1])\n",
        "        return self.input,self.label\n",
        "    def __len__(self):\n",
        "        return len(self.df)"
      ]
    },
    {
      "cell_type": "code",
      "source": [
        "def LoadDataset(data,train_path,val_path,test_path,batch_size):\n",
        "  train_ds = GetDataset(data,train_path,augment=\"true\")\n",
        "  val_ds = GetDataset(data,val_path,augment=\"true\")\n",
        "  test_ds = GetDataset(data,test_path,augment=\"false\")\n",
        "\n",
        "  train_loader=DataLoader(train_ds,batch_size,shuffle=True)\n",
        "  val_loader=DataLoader(val_ds,batch_size,shuffle=True)\n",
        "  test_loader=DataLoader(test_ds,batch_size,shuffle=False)\n",
        "  return train_loader,val_loader,test_loader"
      ],
      "metadata": {
        "id": "9BaIcuv4eFVF"
      },
      "execution_count": null,
      "outputs": []
    },
    {
      "cell_type": "code",
      "execution_count": null,
      "metadata": {
        "id": "RNkS1Wsc208c"
      },
      "outputs": [],
      "source": [
        "def GetModel(no_of_classes,lr):\n",
        "  model = models.resnet50(weights=ResNet50_Weights.DEFAULT)\n",
        "  n_inputs = model.fc.in_features\n",
        "  last_layer = nn.Linear(n_inputs,no_of_classes)\n",
        "  model.fc= last_layer\n",
        "  model = model.to(device)\n",
        "  print(\"Input Features:\",model.fc.in_features)\n",
        "  print(\"Output Features:\",model.fc.out_features)\n",
        "  criterion = nn.NLLLoss()\n",
        "  optimizer = optim.Adam(model.parameters(),lr=lr)\n",
        "  return model,criterion,optimizer\n"
      ]
    },
    {
      "cell_type": "code",
      "source": [
        "def trainer(model,epochs,train_loader,val_loader,criterion,optimizer):\n",
        "  #Model training and saving best model \n",
        "  #load_checkpoint(model,torch.load(\"/content/drive/MyDrive/Colab Notebooks/plantCFY_best_checkpoint2.pth.tar\")) \n",
        "  epoch_loss=[]\n",
        "  train_acc=[]\n",
        "  val_acc=[]\n",
        "  best_accuracy = 0.0\n",
        "  for epoch in range(epochs):\n",
        "    \n",
        "    #Evaluation and training on training dataset\n",
        "    model.train()\n",
        "    train_loss=0.0\n",
        "    train_accuracy=0.0\n",
        "    val_accuracy=0.0\n",
        "    len1=0\n",
        "    len2=0\n",
        "\n",
        "    loop = tqdm(train_loader)\n",
        "    for images,labels in loop:\n",
        "        if torch.cuda.is_available():\n",
        "            images=images.cuda()\n",
        "            labels=labels.cuda()\n",
        "            \n",
        "        optimizer.zero_grad()\n",
        "        outputs=model(images)\n",
        "        m = nn.LogSoftmax(dim=1)\n",
        "        loss=criterion(m(outputs),labels)\n",
        "        loss.backward()\n",
        "        optimizer.step()\n",
        "        \n",
        "        \n",
        "        train_loss+= loss\n",
        "        len1 += labels.shape[0]\n",
        "        prediction=m(outputs).argmax(dim=1)\n",
        "        \n",
        "        train_accuracy+=int(torch.sum(prediction==labels.data))\n",
        "        \n",
        "    train_accuracy=train_accuracy/len1\n",
        "    train_loss=(train_loss/len1).data.item()\n",
        "    epoch_loss.append(train_loss)\n",
        "    train_acc.append(train_accuracy)\n",
        "    \n",
        "    \n",
        "    loop = tqdm(val_loader)  \n",
        "    \n",
        "    for images,labels in loop:\n",
        "        if torch.cuda.is_available():\n",
        "            images=images.cuda()\n",
        "            labels=labels.cuda()\n",
        "            \n",
        "        outputs=model(images)\n",
        "        len2 += labels.shape[0]\n",
        "        prediction=m(outputs).argmax(dim=1)\n",
        "        \n",
        "        val_accuracy+=int(torch.sum(prediction==labels.data))\n",
        "        \n",
        "    val_accuracy=val_accuracy/len2\n",
        "    val_acc.append(val_accuracy)\n",
        "\n",
        "    print('\\nEpoch:'+str(epoch+1)+' Train Loss: '+str(round(train_loss,5))+' Train Accuracy: '+str(round(train_accuracy,5))+' Val Accuracy: '+str(round(val_accuracy,5)))\n",
        "\n",
        "    if val_accuracy>=best_accuracy:\n",
        "        checkpoint = {'state_dict': model.state_dict(), 'optimizer': optimizer.state_dict()}\n",
        "        save_checkpoint(checkpoint)\n",
        "        best_accuracy=val_accuracy\n",
        "\n",
        "  return epoch_loss,train_acc,val_acc\n"
      ],
      "metadata": {
        "id": "36XeYPWxl3vE"
      },
      "execution_count": null,
      "outputs": []
    },
    {
      "cell_type": "code",
      "execution_count": null,
      "metadata": {
        "id": "GnA2SElh0f7l"
      },
      "outputs": [],
      "source": [
        "# Evaluation on testing dataset\n",
        "def tester(model,test_loader):\n",
        "  model.eval()\n",
        "  test_accuracy=0.0\n",
        "  len2=0\n",
        "  loop1 = tqdm(test_loader)\n",
        "  for i, (images,labels) in enumerate(loop1):\n",
        "        if torch.cuda.is_available():\n",
        "            images=images.cuda()\n",
        "            labels=labels.cuda()\n",
        "            \n",
        "        outputs=model(images)\n",
        "        m = nn.LogSoftmax(dim=1)\n",
        "        prediction=m(outputs).argmax(dim=1)\n",
        "        test_accuracy+=int(torch.sum(prediction==labels.data))\n",
        "        len2 += labels.shape[0]\n",
        "    \n",
        "  test_accuracy=test_accuracy/len2\n",
        "  print('\\n\\n********************************************************************************')\n",
        "  print('\\n Test Accuracy: '+str(round(test_accuracy,5)))\n",
        "  print('\\n********************************************************************************\\n\\n')"
      ]
    },
    {
      "cell_type": "code",
      "source": [
        "def plotgraphs(epochs,epoch_loss,train_acc,val_acc):\n",
        "  plt.figure(figsize=[20,6])\n",
        "  plt.subplot(121)\n",
        "  plt.plot(range(epochs),epoch_loss,label='Train Loss')\n",
        "  plt.legend()\n",
        "  plt.xlabel('Epochs')\n",
        "  plt.ylabel('Epoch loss')\n",
        "  plt.title('Loss Curve')\n",
        "  plt.subplot(122)\n",
        "  plt.plot(range(epochs),train_acc,color='red',label='Train Accuracy')\n",
        "  plt.plot(range(epochs),val_acc,color='blue',label='Validation Accuracy')\n",
        "  plt.legend()\n",
        "  plt.xlabel('Epochs')\n",
        "  plt.ylabel('Accuracy')\n",
        "  plt.title('Train Accuracy vs Validation Accuracy')"
      ],
      "metadata": {
        "id": "D_124LnHsfGl"
      },
      "execution_count": null,
      "outputs": []
    },
    {
      "cell_type": "code",
      "source": [
        "def main():\n",
        "  lr=0.0001\n",
        "  epochs = 20\n",
        "  no_of_classes = 12\n",
        "  batch_size=16\n",
        "  MakeDataset(data)\n",
        "  train_loader,val_loader,test_loader=LoadDataset(data,train_path,val_path,test_path,batch_size)\n",
        "  model,criterion,optimizer = GetModel(no_of_classes,lr)\n",
        "  epoch_loss,train_acc,val_acc= trainer(model,epochs,train_loader,val_loader,criterion,optimizer)\n",
        "  tester(model,test_loader)\n",
        "  plotgraphs(epochs,epoch_loss,train_acc,val_acc)"
      ],
      "metadata": {
        "id": "jl_a0Zxwtq1L"
      },
      "execution_count": null,
      "outputs": []
    },
    {
      "cell_type": "code",
      "execution_count": null,
      "metadata": {
        "id": "l2npRLsgCRl4",
        "colab": {
          "base_uri": "https://localhost:8080/",
          "height": 1000,
          "referenced_widgets": [
            "9d4c6a3abf1c4c9698a08ca8cb8f0666",
            "254217d290154913afc406aa1e1e9efa",
            "bfb406be1bc7437a8e0798a4674d320f",
            "86a6f82c3ca34cf9a304b070cd7ca041",
            "57bc1aa0e9a64a13b434dc1f803bc29c",
            "642d835da4234e4e9a5c8652dacfffb2",
            "33498e0bbc25484986df8cec2e96c8bb",
            "a57805e438de44b2b575428d3f7b3cc2",
            "5d8f2e786c354cc7ab52cbdda0090810",
            "569a88e5375b4c46bc597d6b9433eb10",
            "e89c0fea002745c6ad3a38e5f420718d"
          ]
        },
        "outputId": "58c571df-8034-42c7-a304-60f1ea2ec8c5"
      },
      "outputs": [
        {
          "metadata": {
            "tags": null
          },
          "name": "stdout",
          "output_type": "stream",
          "text": [
            "['Cleavers', 'Common Chickweed', 'Common wheat', 'Fat Hen', 'Loose Silky-bent', 'Maize', 'Scentless Mayweed', 'Shepherds Purse', 'Small-flowered Cranesbill', 'Sugar beet', 'Black-grass', 'Charlock']\n"
          ]
        },
        {
          "metadata": {
            "tags": null
          },
          "name": "stderr",
          "output_type": "stream",
          "text": [
            "Downloading: \"https://download.pytorch.org/models/resnet50-11ad3fa6.pth\" to /root/.cache/torch/hub/checkpoints/resnet50-11ad3fa6.pth\n"
          ]
        },
        {
          "data": {
            "application/vnd.jupyter.widget-view+json": {
              "model_id": "9d4c6a3abf1c4c9698a08ca8cb8f0666",
              "version_major": 2,
              "version_minor": 0
            },
            "text/plain": [
              "  0%|          | 0.00/97.8M [00:00<?, ?B/s]"
            ]
          },
          "metadata": {},
          "output_type": "display_data"
        },
        {
          "metadata": {
            "tags": null
          },
          "name": "stdout",
          "output_type": "stream",
          "text": [
            "Input Features: 2048\n",
            "Output Features: 12\n"
          ]
        },
        {
          "output_type": "stream",
          "name": "stderr",
          "text": [
            "100%|██████████| 238/238 [38:52<00:00,  9.80s/it]\n",
            "100%|██████████| 30/30 [04:44<00:00,  9.48s/it]\n"
          ]
        },
        {
          "output_type": "stream",
          "name": "stdout",
          "text": [
            "\n",
            "Epoch:1 Train Loss: 0.07649 Train Accuracy: 0.62862 Val Accuracy: 0.85232\n",
            "==> Saving Checkpoint\n",
            "==> Checkpoint Saved\n"
          ]
        },
        {
          "output_type": "stream",
          "name": "stderr",
          "text": [
            "100%|██████████| 238/238 [01:11<00:00,  3.32it/s]\n",
            "100%|██████████| 30/30 [00:05<00:00,  5.16it/s]\n"
          ]
        },
        {
          "output_type": "stream",
          "name": "stdout",
          "text": [
            "\n",
            "Epoch:2 Train Loss: 0.02142 Train Accuracy: 0.8864 Val Accuracy: 0.88608\n",
            "==> Saving Checkpoint\n",
            "==> Checkpoint Saved\n"
          ]
        },
        {
          "output_type": "stream",
          "name": "stderr",
          "text": [
            "100%|██████████| 238/238 [01:11<00:00,  3.34it/s]\n",
            "100%|██████████| 30/30 [00:05<00:00,  5.24it/s]\n"
          ]
        },
        {
          "output_type": "stream",
          "name": "stdout",
          "text": [
            "\n",
            "Epoch:3 Train Loss: 0.01446 Train Accuracy: 0.92383 Val Accuracy: 0.91139\n",
            "==> Saving Checkpoint\n",
            "==> Checkpoint Saved\n"
          ]
        },
        {
          "output_type": "stream",
          "name": "stderr",
          "text": [
            "100%|██████████| 238/238 [01:11<00:00,  3.31it/s]\n",
            "100%|██████████| 30/30 [00:05<00:00,  5.24it/s]\n"
          ]
        },
        {
          "output_type": "stream",
          "name": "stdout",
          "text": [
            "\n",
            "Epoch:4 Train Loss: 0.01162 Train Accuracy: 0.93595 Val Accuracy: 0.91983\n",
            "==> Saving Checkpoint\n",
            "==> Checkpoint Saved\n"
          ]
        },
        {
          "output_type": "stream",
          "name": "stderr",
          "text": [
            "100%|██████████| 238/238 [01:11<00:00,  3.32it/s]\n",
            "100%|██████████| 30/30 [00:05<00:00,  5.20it/s]\n"
          ]
        },
        {
          "output_type": "stream",
          "name": "stdout",
          "text": [
            "\n",
            "Epoch:5 Train Loss: 0.00968 Train Accuracy: 0.9486 Val Accuracy: 0.93038\n",
            "==> Saving Checkpoint\n",
            "==> Checkpoint Saved\n"
          ]
        },
        {
          "output_type": "stream",
          "name": "stderr",
          "text": [
            "100%|██████████| 238/238 [01:12<00:00,  3.30it/s]\n",
            "100%|██████████| 30/30 [00:05<00:00,  5.25it/s]\n"
          ]
        },
        {
          "output_type": "stream",
          "name": "stdout",
          "text": [
            "\n",
            "Epoch:6 Train Loss: 0.00886 Train Accuracy: 0.95335 Val Accuracy: 0.92405\n"
          ]
        },
        {
          "output_type": "stream",
          "name": "stderr",
          "text": [
            "100%|██████████| 238/238 [01:11<00:00,  3.35it/s]\n",
            "100%|██████████| 30/30 [00:05<00:00,  5.12it/s]\n"
          ]
        },
        {
          "output_type": "stream",
          "name": "stdout",
          "text": [
            "\n",
            "Epoch:7 Train Loss: 0.00825 Train Accuracy: 0.95677 Val Accuracy: 0.91139\n"
          ]
        },
        {
          "output_type": "stream",
          "name": "stderr",
          "text": [
            "100%|██████████| 238/238 [01:11<00:00,  3.31it/s]\n",
            "100%|██████████| 30/30 [00:05<00:00,  5.13it/s]\n"
          ]
        },
        {
          "output_type": "stream",
          "name": "stdout",
          "text": [
            "\n",
            "Epoch:8 Train Loss: 0.00721 Train Accuracy: 0.96205 Val Accuracy: 0.94304\n",
            "==> Saving Checkpoint\n",
            "==> Checkpoint Saved\n"
          ]
        },
        {
          "output_type": "stream",
          "name": "stderr",
          "text": [
            "100%|██████████| 238/238 [01:12<00:00,  3.30it/s]\n",
            "100%|██████████| 30/30 [00:05<00:00,  5.22it/s]\n"
          ]
        },
        {
          "output_type": "stream",
          "name": "stdout",
          "text": [
            "\n",
            "Epoch:9 Train Loss: 0.00772 Train Accuracy: 0.95836 Val Accuracy: 0.9346\n"
          ]
        },
        {
          "output_type": "stream",
          "name": "stderr",
          "text": [
            "100%|██████████| 238/238 [01:11<00:00,  3.34it/s]\n",
            "100%|██████████| 30/30 [00:05<00:00,  5.31it/s]\n"
          ]
        },
        {
          "output_type": "stream",
          "name": "stdout",
          "text": [
            "\n",
            "Epoch:10 Train Loss: 0.00596 Train Accuracy: 0.96811 Val Accuracy: 0.94304\n",
            "==> Saving Checkpoint\n",
            "==> Checkpoint Saved\n"
          ]
        },
        {
          "output_type": "stream",
          "name": "stderr",
          "text": [
            "100%|██████████| 238/238 [01:11<00:00,  3.31it/s]\n",
            "100%|██████████| 30/30 [00:05<00:00,  5.25it/s]\n"
          ]
        },
        {
          "output_type": "stream",
          "name": "stdout",
          "text": [
            "\n",
            "Epoch:11 Train Loss: 0.00577 Train Accuracy: 0.96995 Val Accuracy: 0.94304\n",
            "==> Saving Checkpoint\n",
            "==> Checkpoint Saved\n"
          ]
        },
        {
          "output_type": "stream",
          "name": "stderr",
          "text": [
            "100%|██████████| 238/238 [01:11<00:00,  3.32it/s]\n",
            "100%|██████████| 30/30 [00:05<00:00,  5.27it/s]\n"
          ]
        },
        {
          "output_type": "stream",
          "name": "stdout",
          "text": [
            "\n",
            "Epoch:12 Train Loss: 0.00564 Train Accuracy: 0.97074 Val Accuracy: 0.95148\n",
            "==> Saving Checkpoint\n",
            "==> Checkpoint Saved\n"
          ]
        },
        {
          "output_type": "stream",
          "name": "stderr",
          "text": [
            "100%|██████████| 238/238 [01:11<00:00,  3.32it/s]\n",
            "100%|██████████| 30/30 [00:05<00:00,  5.31it/s]\n"
          ]
        },
        {
          "output_type": "stream",
          "name": "stdout",
          "text": [
            "\n",
            "Epoch:13 Train Loss: 0.00478 Train Accuracy: 0.97522 Val Accuracy: 0.95148\n",
            "==> Saving Checkpoint\n",
            "==> Checkpoint Saved\n"
          ]
        },
        {
          "output_type": "stream",
          "name": "stderr",
          "text": [
            "100%|██████████| 238/238 [01:11<00:00,  3.32it/s]\n",
            "100%|██████████| 30/30 [00:05<00:00,  5.27it/s]\n"
          ]
        },
        {
          "output_type": "stream",
          "name": "stdout",
          "text": [
            "\n",
            "Epoch:14 Train Loss: 0.00512 Train Accuracy: 0.97259 Val Accuracy: 0.95992\n",
            "==> Saving Checkpoint\n",
            "==> Checkpoint Saved\n"
          ]
        },
        {
          "output_type": "stream",
          "name": "stderr",
          "text": [
            "100%|██████████| 238/238 [01:11<00:00,  3.32it/s]\n",
            "100%|██████████| 30/30 [00:05<00:00,  5.26it/s]\n"
          ]
        },
        {
          "output_type": "stream",
          "name": "stdout",
          "text": [
            "\n",
            "Epoch:15 Train Loss: 0.00458 Train Accuracy: 0.97628 Val Accuracy: 0.96414\n",
            "==> Saving Checkpoint\n",
            "==> Checkpoint Saved\n"
          ]
        },
        {
          "output_type": "stream",
          "name": "stderr",
          "text": [
            "100%|██████████| 238/238 [01:11<00:00,  3.35it/s]\n",
            "100%|██████████| 30/30 [00:05<00:00,  5.26it/s]\n"
          ]
        },
        {
          "output_type": "stream",
          "name": "stdout",
          "text": [
            "\n",
            "Epoch:16 Train Loss: 0.00402 Train Accuracy: 0.97549 Val Accuracy: 0.96624\n",
            "==> Saving Checkpoint\n",
            "==> Checkpoint Saved\n"
          ]
        },
        {
          "output_type": "stream",
          "name": "stderr",
          "text": [
            "100%|██████████| 238/238 [01:11<00:00,  3.31it/s]\n",
            "100%|██████████| 30/30 [00:05<00:00,  5.25it/s]\n"
          ]
        },
        {
          "output_type": "stream",
          "name": "stdout",
          "text": [
            "\n",
            "Epoch:17 Train Loss: 0.00369 Train Accuracy: 0.97654 Val Accuracy: 0.95148\n"
          ]
        },
        {
          "output_type": "stream",
          "name": "stderr",
          "text": [
            "100%|██████████| 238/238 [01:11<00:00,  3.34it/s]\n",
            "100%|██████████| 30/30 [00:05<00:00,  5.11it/s]\n"
          ]
        },
        {
          "output_type": "stream",
          "name": "stdout",
          "text": [
            "\n",
            "Epoch:18 Train Loss: 0.00354 Train Accuracy: 0.97997 Val Accuracy: 0.95781\n"
          ]
        },
        {
          "output_type": "stream",
          "name": "stderr",
          "text": [
            "100%|██████████| 238/238 [01:10<00:00,  3.36it/s]\n",
            "100%|██████████| 30/30 [00:05<00:00,  5.33it/s]\n"
          ]
        },
        {
          "output_type": "stream",
          "name": "stdout",
          "text": [
            "\n",
            "Epoch:19 Train Loss: 0.00354 Train Accuracy: 0.98102 Val Accuracy: 0.94093\n"
          ]
        },
        {
          "output_type": "stream",
          "name": "stderr",
          "text": [
            "100%|██████████| 238/238 [01:11<00:00,  3.33it/s]\n",
            "100%|██████████| 30/30 [00:05<00:00,  5.35it/s]\n"
          ]
        },
        {
          "output_type": "stream",
          "name": "stdout",
          "text": [
            "\n",
            "Epoch:20 Train Loss: 0.00367 Train Accuracy: 0.97839 Val Accuracy: 0.95781\n"
          ]
        },
        {
          "output_type": "stream",
          "name": "stderr",
          "text": [
            "100%|██████████| 31/31 [04:47<00:00,  9.29s/it]\n"
          ]
        },
        {
          "output_type": "stream",
          "name": "stdout",
          "text": [
            "\n",
            "\n",
            "********************************************************************************\n",
            "\n",
            " Test Accuracy: 0.96473\n",
            "\n",
            "********************************************************************************\n",
            "\n",
            "\n"
          ]
        },
        {
          "output_type": "display_data",
          "data": {
            "text/plain": [
              "<Figure size 1440x432 with 2 Axes>"
            ],
            "image/png": "[encoded data removed]"
          },
          "metadata": {
            "image/png": {
              "width": 1173,
              "height": 386
            },
            "needs_background": "light"
          }
        }
      ],
      "source": [
        "if __name__ == \"__main__\":\n",
        "    main()"
      ]
    },
    {
      "cell_type": "code",
      "source": [],
      "metadata": {
        "id": "ifffd72vqtwG"
      },
      "execution_count": null,
      "outputs": []
    }
  ],
  "metadata": {
    "colab": {
      "collapsed_sections": [],
      "name": "PlantCFYAugmented.ipynb",
      "provenance": []
    },
    "gpuClass": "standard",
    "kernelspec": {
      "display_name": "Python 3",
      "name": "python3"
    },
    "language_info": {
      "name": "python"
    },
    "accelerator": "GPU",
    "widgets": {
      "application/vnd.jupyter.widget-state+json": {
        "9d4c6a3abf1c4c9698a08ca8cb8f0666": {
          "model_module": "@jupyter-widgets/controls",
          "model_name": "HBoxModel",
          "model_module_version": "1.5.0",
          "state": {
            "_dom_classes": [],
            "_model_module": "@jupyter-widgets/controls",
            "_model_module_version": "1.5.0",
            "_model_name": "HBoxModel",
            "_view_count": null,
            "_view_module": "@jupyter-widgets/controls",
            "_view_module_version": "1.5.0",
            "_view_name": "HBoxView",
            "box_style": "",
            "children": [
              "IPY_MODEL_254217d290154913afc406aa1e1e9efa",
              "IPY_MODEL_bfb406be1bc7437a8e0798a4674d320f",
              "IPY_MODEL_86a6f82c3ca34cf9a304b070cd7ca041"
            ],
            "layout": "IPY_MODEL_57bc1aa0e9a64a13b434dc1f803bc29c"
          }
        },
        "254217d290154913afc406aa1e1e9efa": {
          "model_module": "@jupyter-widgets/controls",
          "model_name": "HTMLModel",
          "model_module_version": "1.5.0",
          "state": {
            "_dom_classes": [],
            "_model_module": "@jupyter-widgets/controls",
            "_model_module_version": "1.5.0",
            "_model_name": "HTMLModel",
            "_view_count": null,
            "_view_module": "@jupyter-widgets/controls",
            "_view_module_version": "1.5.0",
            "_view_name": "HTMLView",
            "description": "",
            "description_tooltip": null,
            "layout": "IPY_MODEL_642d835da4234e4e9a5c8652dacfffb2",
            "placeholder": "​",
            "style": "IPY_MODEL_33498e0bbc25484986df8cec2e96c8bb",
            "value": "100%"
          }
        },
        "bfb406be1bc7437a8e0798a4674d320f": {
          "model_module": "@jupyter-widgets/controls",
          "model_name": "FloatProgressModel",
          "model_module_version": "1.5.0",
          "state": {
            "_dom_classes": [],
            "_model_module": "@jupyter-widgets/controls",
            "_model_module_version": "1.5.0",
            "_model_name": "FloatProgressModel",
            "_view_count": null,
            "_view_module": "@jupyter-widgets/controls",
            "_view_module_version": "1.5.0",
            "_view_name": "ProgressView",
            "bar_style": "success",
            "description": "",
            "description_tooltip": null,
            "layout": "IPY_MODEL_a57805e438de44b2b575428d3f7b3cc2",
            "max": 102540417,
            "min": 0,
            "orientation": "horizontal",
            "style": "IPY_MODEL_5d8f2e786c354cc7ab52cbdda0090810",
            "value": 102540417
          }
        },
        "86a6f82c3ca34cf9a304b070cd7ca041": {
          "model_module": "@jupyter-widgets/controls",
          "model_name": "HTMLModel",
          "model_module_version": "1.5.0",
          "state": {
            "_dom_classes": [],
            "_model_module": "@jupyter-widgets/controls",
            "_model_module_version": "1.5.0",
            "_model_name": "HTMLModel",
            "_view_count": null,
            "_view_module": "@jupyter-widgets/controls",
            "_view_module_version": "1.5.0",
            "_view_name": "HTMLView",
            "description": "",
            "description_tooltip": null,
            "layout": "IPY_MODEL_569a88e5375b4c46bc597d6b9433eb10",
            "placeholder": "​",
            "style": "IPY_MODEL_e89c0fea002745c6ad3a38e5f420718d",
            "value": " 97.8M/97.8M [00:01&lt;00:00, 95.7MB/s]"
          }
        },
        "57bc1aa0e9a64a13b434dc1f803bc29c": {
          "model_module": "@jupyter-widgets/base",
          "model_name": "LayoutModel",
          "model_module_version": "1.2.0",
          "state": {
            "_model_module": "@jupyter-widgets/base",
            "_model_module_version": "1.2.0",
            "_model_name": "LayoutModel",
            "_view_count": null,
            "_view_module": "@jupyter-widgets/base",
            "_view_module_version": "1.2.0",
            "_view_name": "LayoutView",
            "align_content": null,
            "align_items": null,
            "align_self": null,
            "border": null,
            "bottom": null,
            "display": null,
            "flex": null,
            "flex_flow": null,
            "grid_area": null,
            "grid_auto_columns": null,
            "grid_auto_flow": null,
            "grid_auto_rows": null,
            "grid_column": null,
            "grid_gap": null,
            "grid_row": null,
            "grid_template_areas": null,
            "grid_template_columns": null,
            "grid_template_rows": null,
            "height": null,
            "justify_content": null,
            "justify_items": null,
            "left": null,
            "margin": null,
            "max_height": null,
            "max_width": null,
            "min_height": null,
            "min_width": null,
            "object_fit": null,
            "object_position": null,
            "order": null,
            "overflow": null,
            "overflow_x": null,
            "overflow_y": null,
            "padding": null,
            "right": null,
            "top": null,
            "visibility": null,
            "width": null
          }
        },
        "642d835da4234e4e9a5c8652dacfffb2": {
          "model_module": "@jupyter-widgets/base",
          "model_name": "LayoutModel",
          "model_module_version": "1.2.0",
          "state": {
            "_model_module": "@jupyter-widgets/base",
            "_model_module_version": "1.2.0",
            "_model_name": "LayoutModel",
            "_view_count": null,
            "_view_module": "@jupyter-widgets/base",
            "_view_module_version": "1.2.0",
            "_view_name": "LayoutView",
            "align_content": null,
            "align_items": null,
            "align_self": null,
            "border": null,
            "bottom": null,
            "display": null,
            "flex": null,
            "flex_flow": null,
            "grid_area": null,
            "grid_auto_columns": null,
            "grid_auto_flow": null,
            "grid_auto_rows": null,
            "grid_column": null,
            "grid_gap": null,
            "grid_row": null,
            "grid_template_areas": null,
            "grid_template_columns": null,
            "grid_template_rows": null,
            "height": null,
            "justify_content": null,
            "justify_items": null,
            "left": null,
            "margin": null,
            "max_height": null,
            "max_width": null,
            "min_height": null,
            "min_width": null,
            "object_fit": null,
            "object_position": null,
            "order": null,
            "overflow": null,
            "overflow_x": null,
            "overflow_y": null,
            "padding": null,
            "right": null,
            "top": null,
            "visibility": null,
            "width": null
          }
        },
        "33498e0bbc25484986df8cec2e96c8bb": {
          "model_module": "@jupyter-widgets/controls",
          "model_name": "DescriptionStyleModel",
          "model_module_version": "1.5.0",
          "state": {
            "_model_module": "@jupyter-widgets/controls",
            "_model_module_version": "1.5.0",
            "_model_name": "DescriptionStyleModel",
            "_view_count": null,
            "_view_module": "@jupyter-widgets/base",
            "_view_module_version": "1.2.0",
            "_view_name": "StyleView",
            "description_width": ""
          }
        },
        "a57805e438de44b2b575428d3f7b3cc2": {
          "model_module": "@jupyter-widgets/base",
          "model_name": "LayoutModel",
          "model_module_version": "1.2.0",
          "state": {
            "_model_module": "@jupyter-widgets/base",
            "_model_module_version": "1.2.0",
            "_model_name": "LayoutModel",
            "_view_count": null,
            "_view_module": "@jupyter-widgets/base",
            "_view_module_version": "1.2.0",
            "_view_name": "LayoutView",
            "align_content": null,
            "align_items": null,
            "align_self": null,
            "border": null,
            "bottom": null,
            "display": null,
            "flex": null,
            "flex_flow": null,
            "grid_area": null,
            "grid_auto_columns": null,
            "grid_auto_flow": null,
            "grid_auto_rows": null,
            "grid_column": null,
            "grid_gap": null,
            "grid_row": null,
            "grid_template_areas": null,
            "grid_template_columns": null,
            "grid_template_rows": null,
            "height": null,
            "justify_content": null,
            "justify_items": null,
            "left": null,
            "margin": null,
            "max_height": null,
            "max_width": null,
            "min_height": null,
            "min_width": null,
            "object_fit": null,
            "object_position": null,
            "order": null,
            "overflow": null,
            "overflow_x": null,
            "overflow_y": null,
            "padding": null,
            "right": null,
            "top": null,
            "visibility": null,
            "width": null
          }
        },
        "5d8f2e786c354cc7ab52cbdda0090810": {
          "model_module": "@jupyter-widgets/controls",
          "model_name": "ProgressStyleModel",
          "model_module_version": "1.5.0",
          "state": {
            "_model_module": "@jupyter-widgets/controls",
            "_model_module_version": "1.5.0",
            "_model_name": "ProgressStyleModel",
            "_view_count": null,
            "_view_module": "@jupyter-widgets/base",
            "_view_module_version": "1.2.0",
            "_view_name": "StyleView",
            "bar_color": null,
            "description_width": ""
          }
        },
        "569a88e5375b4c46bc597d6b9433eb10": {
          "model_module": "@jupyter-widgets/base",
          "model_name": "LayoutModel",
          "model_module_version": "1.2.0",
          "state": {
            "_model_module": "@jupyter-widgets/base",
            "_model_module_version": "1.2.0",
            "_model_name": "LayoutModel",
            "_view_count": null,
            "_view_module": "@jupyter-widgets/base",
            "_view_module_version": "1.2.0",
            "_view_name": "LayoutView",
            "align_content": null,
            "align_items": null,
            "align_self": null,
            "border": null,
            "bottom": null,
            "display": null,
            "flex": null,
            "flex_flow": null,
            "grid_area": null,
            "grid_auto_columns": null,
            "grid_auto_flow": null,
            "grid_auto_rows": null,
            "grid_column": null,
            "grid_gap": null,
            "grid_row": null,
            "grid_template_areas": null,
            "grid_template_columns": null,
            "grid_template_rows": null,
            "height": null,
            "justify_content": null,
            "justify_items": null,
            "left": null,
            "margin": null,
            "max_height": null,
            "max_width": null,
            "min_height": null,
            "min_width": null,
            "object_fit": null,
            "object_position": null,
            "order": null,
            "overflow": null,
            "overflow_x": null,
            "overflow_y": null,
            "padding": null,
            "right": null,
            "top": null,
            "visibility": null,
            "width": null
          }
        },
        "e89c0fea002745c6ad3a38e5f420718d": {
          "model_module": "@jupyter-widgets/controls",
          "model_name": "DescriptionStyleModel",
          "model_module_version": "1.5.0",
          "state": {
            "_model_module": "@jupyter-widgets/controls",
            "_model_module_version": "1.5.0",
            "_model_name": "DescriptionStyleModel",
            "_view_count": null,
            "_view_module": "@jupyter-widgets/base",
            "_view_module_version": "1.2.0",
            "_view_name": "StyleView",
            "description_width": ""
          }
        }
      }
    }
  },
  "nbformat": 4,
  "nbformat_minor": 0
}